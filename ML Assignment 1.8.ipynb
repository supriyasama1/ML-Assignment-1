{
 "cells": [
  {
   "cell_type": "code",
   "execution_count": 2,
   "id": "15418617",
   "metadata": {},
   "outputs": [
    {
     "name": "stdout",
     "output_type": "stream",
     "text": [
      "The area of circle with radius 10 is 314.0 meters square\n"
     ]
    }
   ],
   "source": [
    "#assigned variable radius\n",
    "radius=10\n",
    "#assigned area of circle formula\n",
    "area=3.14 * radius ** 2\n",
    "#printing the ouput using string format\n",
    "print(\"The area of circle with radius {} is {} meters square\".format(radius,area))"
   ]
  },
  {
   "cell_type": "code",
   "execution_count": null,
   "id": "88c81947",
   "metadata": {},
   "outputs": [],
   "source": []
  }
 ],
 "metadata": {
  "kernelspec": {
   "display_name": "Python 3 (ipykernel)",
   "language": "python",
   "name": "python3"
  },
  "language_info": {
   "codemirror_mode": {
    "name": "ipython",
    "version": 3
   },
   "file_extension": ".py",
   "mimetype": "text/x-python",
   "name": "python",
   "nbconvert_exporter": "python",
   "pygments_lexer": "ipython3",
   "version": "3.11.1"
  }
 },
 "nbformat": 4,
 "nbformat_minor": 5
}
