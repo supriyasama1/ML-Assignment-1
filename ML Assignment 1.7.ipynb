{
 "cells": [
  {
   "cell_type": "code",
   "execution_count": 6,
   "id": "33a44041",
   "metadata": {},
   "outputs": [
    {
     "name": "stdout",
     "output_type": "stream",
     "text": [
      "Name    \tAge\tCountry  \tCity\n",
      "Asabeneh\t250\tFinland \tHelsinki\n"
     ]
    }
   ],
   "source": [
    "#tab escape\n",
    "#declaring a string to the txt variable\n",
    "txt = \"Name    \\tAge\\tCountry  \\tCity\\nAsabeneh\\t250\\tFinland \\tHelsinki\"\n",
    "#printing the results\n",
    "print(txt)"
   ]
  }
 ],
 "metadata": {
  "kernelspec": {
   "display_name": "Python 3 (ipykernel)",
   "language": "python",
   "name": "python3"
  },
  "language_info": {
   "codemirror_mode": {
    "name": "ipython",
    "version": 3
   },
   "file_extension": ".py",
   "mimetype": "text/x-python",
   "name": "python",
   "nbconvert_exporter": "python",
   "pygments_lexer": "ipython3",
   "version": "3.11.1"
  }
 },
 "nbformat": 4,
 "nbformat_minor": 5
}
