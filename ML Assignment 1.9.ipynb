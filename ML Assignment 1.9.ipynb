{
 "cells": [
  {
   "cell_type": "code",
   "execution_count": 6,
   "id": "365a5390",
   "metadata": {},
   "outputs": [
    {
     "name": "stdout",
     "output_type": "stream",
     "text": [
      "Enter the number of students : 3\n",
      "Enter weights in lbs for students 1 98\n",
      "Enter weights in lbs for students 2 105\n",
      "Enter weights in lbs for students 3 120\n",
      "weights in kilograms : [44.452016, 47.627159999999996, 54.431039999999996]\n"
     ]
    }
   ],
   "source": [
    "# function to convert weight in lbs to kilograms\n",
    "def lbs_to_kilograms(weight):\n",
    "    return weight * 0.453592 #1lbs=0.453593kg\n",
    "#reading inputs from user\n",
    "n = int(input(\"Enter the number of students : \"))\n",
    "#list to store weights in lbs\n",
    "weights_lbs = []\n",
    "#loop to get weights in lbs from user\n",
    "for i in range(n):\n",
    "    weight = float(input(\"Enter weights in lbs for students {} \".format(i+1)))\n",
    "    weights_lbs.append(weight)\n",
    "weights_kilograms = []\n",
    "#loop to convert weights fron lbs to kilograms\n",
    "for weight in weights_lbs:\n",
    "    weight_kg = lbs_to_kilograms(weight)\n",
    "    weights_kilograms.append(weight_kg)\n",
    " #printing weights in kilograms   \n",
    "print(\"weights in kilograms :\",weights_kilograms)"
   ]
  },
  {
   "cell_type": "code",
   "execution_count": null,
   "id": "c73488e9",
   "metadata": {},
   "outputs": [],
   "source": []
  }
 ],
 "metadata": {
  "kernelspec": {
   "display_name": "Python 3 (ipykernel)",
   "language": "python",
   "name": "python3"
  },
  "language_info": {
   "codemirror_mode": {
    "name": "ipython",
    "version": 3
   },
   "file_extension": ".py",
   "mimetype": "text/x-python",
   "name": "python",
   "nbconvert_exporter": "python",
   "pygments_lexer": "ipython3",
   "version": "3.11.1"
  }
 },
 "nbformat": 4,
 "nbformat_minor": 5
}
