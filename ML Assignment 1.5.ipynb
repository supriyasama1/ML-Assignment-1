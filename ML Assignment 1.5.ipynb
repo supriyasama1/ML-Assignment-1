{
 "cells": [
  {
   "cell_type": "code",
   "execution_count": 6,
   "id": "008b9253",
   "metadata": {},
   "outputs": [
    {
     "name": "stdout",
     "output_type": "stream",
     "text": [
      "area of circle : 2826.0\n",
      "circumference of circle : 188.4\n",
      "Enter the value 23\n",
      "Area of circle with user input : 1661.0600000000002\n"
     ]
    }
   ],
   "source": [
    "#area of circle\n",
    "#Given radius of circle 30 meters\n",
    "r=30\n",
    "#assign variable name \"_area_of_circle\"\n",
    "_area_of_circle=3.14*(r**2)\n",
    "#printing the results\n",
    "print(\"area of circle :\", _area_of_circle)\n",
    "\n",
    "#circumference of circle\n",
    "#assign variable nmae \"_circum_of_circle\"\n",
    "_circum_of_circle=2*3.14*r\n",
    "#printing the results\n",
    "print(\"circumference of circle :\",_circum_of_circle)\n",
    "\n",
    "#area of circle for user input\n",
    "#taking user input\n",
    "n=int(input(\"Enter the value \"))\n",
    "#assign variable name \"area\"\n",
    "area=3.14*(n**2)\n",
    "#printing the results for user input\n",
    "print(\"Area of circle with user input :\",area)"
   ]
  },
  {
   "cell_type": "code",
   "execution_count": null,
   "id": "582f0954",
   "metadata": {},
   "outputs": [],
   "source": []
  }
 ],
 "metadata": {
  "kernelspec": {
   "display_name": "Python 3 (ipykernel)",
   "language": "python",
   "name": "python3"
  },
  "language_info": {
   "codemirror_mode": {
    "name": "ipython",
    "version": 3
   },
   "file_extension": ".py",
   "mimetype": "text/x-python",
   "name": "python",
   "nbconvert_exporter": "python",
   "pygments_lexer": "ipython3",
   "version": "3.11.1"
  }
 },
 "nbformat": 4,
 "nbformat_minor": 5
}
