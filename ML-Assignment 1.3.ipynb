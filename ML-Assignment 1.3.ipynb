{
 "cells": [
  {
   "cell_type": "code",
   "execution_count": 3,
   "id": "d7d10c61",
   "metadata": {},
   "outputs": [
    {
     "name": "stdout",
     "output_type": "stream",
     "text": [
      "brothers are :  ('aryan', 'karthik')\n",
      "sisters are :  ('suchi', 'sony', 'aishu', 'raji')\n",
      "siblings are :  ('aryan', 'karthik', 'suchi', 'sony', 'aishu', 'raji')\n",
      "number of siblings are :  6\n",
      "family members are :  ('prathap', 'savitha', 'aryan', 'karthik', 'suchi', 'sony', 'aishu', 'raji')\n"
     ]
    }
   ],
   "source": [
    "#creating a tuple containing names of siters\n",
    "sisters=(\"suchi\",\"sony\",\"aishu\",\"raji\")\n",
    "#creating a tuple containing nmaes of brothers\n",
    "brothers=(\"aryan\",\"karthik\")\n",
    "#printing brothers names\n",
    "print(\"brothers are : \",brothers)\n",
    "#printing sisters names\n",
    "print(\"sisters are : \",sisters)\n",
    "\n",
    "#joining brothers and sisters \n",
    "siblings=brothers+sisters\n",
    "#printing sibling names\n",
    "print(\"siblings are : \",siblings)\n",
    "#printing number of siblings\n",
    "print(\"number of siblings are : \",len(siblings))\n",
    "\n",
    "#adding names of father and mother \n",
    "family_members=(\"prathap\",\"savitha\")+siblings\n",
    "#printing family members names\n",
    "print(\"family members are : \",family_members)"
   ]
  },
  {
   "cell_type": "code",
   "execution_count": null,
   "id": "aab4ec41",
   "metadata": {},
   "outputs": [],
   "source": []
  }
 ],
 "metadata": {
  "kernelspec": {
   "display_name": "Python 3 (ipykernel)",
   "language": "python",
   "name": "python3"
  },
  "language_info": {
   "codemirror_mode": {
    "name": "ipython",
    "version": 3
   },
   "file_extension": ".py",
   "mimetype": "text/x-python",
   "name": "python",
   "nbconvert_exporter": "python",
   "pygments_lexer": "ipython3",
   "version": "3.11.1"
  }
 },
 "nbformat": 4,
 "nbformat_minor": 5
}
