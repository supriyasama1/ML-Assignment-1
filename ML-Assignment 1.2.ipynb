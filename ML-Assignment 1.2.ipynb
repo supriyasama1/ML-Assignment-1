{
 "cells": [
  {
   "cell_type": "code",
   "execution_count": 2,
   "id": "df7fdd3d",
   "metadata": {},
   "outputs": [
    {
     "name": "stdout",
     "output_type": "stream",
     "text": [
      "Dog dictionary is : {'name': 'romeo', 'color': 'white', 'breed': 'shihtzu', 'legs': 4, 'age': 6}\n",
      "\n",
      "student dictionary is :  {'first_name': 'supriya', 'last_name': 'sama', 'gender': 'female', 'age': 21, 'marital status': 'single', 'skills': ['python', 'java', 'AWS'], 'country': 'india', 'city': 'Nizamabad', 'address': 'street no 4'}\n",
      "length of student dictionary is :  9\n",
      "student skills are :  ['python', 'java', 'AWS']\n",
      "type of student skills is :  <class 'list'>\n",
      "modified student skills :  ['python', 'java', 'AWS', 'numpy', '.net']\n",
      "dog dictionary keys :  ['name', 'color', 'breed', 'legs', 'age']\n",
      "student dictionary keys :  ['first_name', 'last_name', 'gender', 'age', 'marital status', 'skills', 'country', 'city', 'address']\n",
      "dog dictionary values :  ['romeo', 'white', 'shihtzu', 4, 6]\n",
      "student dictionary values :  ['supriya', 'sama', 'female', 21, 'single', ['python', 'java', 'AWS', 'numpy', '.net'], 'india', 'Nizamabad', 'street no 4']\n"
     ]
    }
   ],
   "source": [
    "#creating dictionary for dog\n",
    "dog = dict()\n",
    "#adding name, color, breed, legs, age to the dictionary\n",
    "dog[\"name\"]='romeo'\n",
    "dog[\"color\"]='white'\n",
    "dog[\"breed\"]=\"shihtzu\"\n",
    "dog[\"legs\"]=4\n",
    "dog[\"age\"]=6\n",
    "#printing dog dictionary\n",
    "print(\"Dog dictionary is :\",dog)\n",
    "print()\n",
    "\n",
    "#creating student dictionary\n",
    "student = dict()\n",
    "#adding student informatiom\n",
    "student[\"first_name\"]=\"supriya\"\n",
    "student[\"last_name\"]=\"sama\"\n",
    "student[\"gender\"]=\"female\"\n",
    "student[\"age\"]=21\n",
    "student[\"marital status\"]=\"single\"\n",
    "student[\"skills\"]=[\"python\",\"java\",\"AWS\"]\n",
    "student[\"country\"]=\"india\"\n",
    "student[\"city\"]=\"Nizamabad\"\n",
    "student[\"address\"]=\"street no 4\"\n",
    "#printing student dictionary\n",
    "print(\"student dictionary is : \",student)\n",
    "\n",
    "#printing the length of student dictionary\n",
    "print(\"length of student dictionary is : \",str(len(student)))\n",
    "\n",
    "#value of student skills and datatype\n",
    "print(\"student skills are : \",end=\" \")\n",
    "print(student[\"skills\"])\n",
    "print(\"type of student skills is : \",type(student[\"skills\"]))\n",
    "\n",
    "#adding two skills\n",
    "student[\"skills\"].append(\"numpy\")\n",
    "student[\"skills\"].append(\".net\")\n",
    "#printing modified student skills\n",
    "print(\"modified student skills : \",student[\"skills\"])\n",
    "\n",
    "#getting dictionary keys as list\n",
    "dog_keys=list(dog.keys())\n",
    "print(\"dog dictionary keys : \",dog_keys)\n",
    "student_keys=list(student.keys())\n",
    "print(\"student dictionary keys : \",student_keys)\n",
    "#getting dictionary values as a list\n",
    "dog_values=list(dog.values())\n",
    "print(\"dog dictionary values : \",dog_values)\n",
    "student_values=list(student.values())\n",
    "print(\"student dictionary values : \",student_values)\n"
   ]
  },
  {
   "cell_type": "code",
   "execution_count": null,
   "id": "51b294d2",
   "metadata": {},
   "outputs": [],
   "source": []
  }
 ],
 "metadata": {
  "kernelspec": {
   "display_name": "Python 3 (ipykernel)",
   "language": "python",
   "name": "python3"
  },
  "language_info": {
   "codemirror_mode": {
    "name": "ipython",
    "version": 3
   },
   "file_extension": ".py",
   "mimetype": "text/x-python",
   "name": "python",
   "nbconvert_exporter": "python",
   "pygments_lexer": "ipython3",
   "version": "3.11.1"
  }
 },
 "nbformat": 4,
 "nbformat_minor": 5
}
